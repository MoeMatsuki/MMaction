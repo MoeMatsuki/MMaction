{
 "cells": [
  {
   "cell_type": "code",
   "execution_count": null,
   "metadata": {},
   "outputs": [],
   "source": [
    "#####\n",
    "# 目的：画像のファイル名を*.jpgからimg_00000.jpgに変換\n",
    "#####\n",
    "\n",
    "\n",
    "import numpy as np\n",
    "import cv2\n",
    "import glob\n",
    "\n",
    "#フォルダ名を指定\n",
    "files = glob.glob('./IMG_1810/*.jpg')\n",
    "files.sort()\n",
    "#全てのファイルを実行\n",
    "for i,f in enumerate(files):\n",
    "    \n",
    "    # iを左詰めの数列に変更　ex) i=1 → s=00001\n",
    "    s = f'{i}'\n",
    "    a = s.zfill(5)\n",
    "    # 画像ファイルを読み込む\n",
    "    img = cv2.imread(f)\n",
    "    \n",
    "\n",
    "    # 変換した値で保存\n",
    "    cv2.imwrite(f\"img_{a}.jpg\",img)\n"
   ]
  },
  {
   "cell_type": "code",
   "execution_count": 11,
   "metadata": {},
   "outputs": [],
   "source": [
    "#####\n",
    "# 目的：Spatio-temporal action recovnition用のラベルファイルに変換\n",
    "#####\n",
    "\n",
    "\n",
    "import numpy as np\n",
    "import cv2\n",
    "import glob\n",
    "\n",
    "\n",
    "files = glob.glob('./IMG_1810/*.txt')\n",
    "files.sort()\n",
    "video_id = \"IMG_1810\"\n",
    "\n",
    "\n",
    "# train.txtにファイル書き込み\n",
    "with open(\"train.txt\",\"a\") as ff:\n",
    "    for j,file in enumerate(files):\n",
    "        #ファイル読み込み\n",
    "        f = open(file, 'r')\n",
    "        #初期値\n",
    "        a = -1\n",
    "        #人の識別用ＩＤ\n",
    "        person_id = 0\n",
    "\n",
    "        # 1つのファイルに格納されているファイルを一行ずつ返還\n",
    "        for i,data in enumerate(f):\n",
    "            # tmpにリストとして格納\n",
    "            tmp = list(map(float,data.split()))\n",
    "            # print(tmp)\n",
    "            if tmp[0] < 80:\n",
    "                # 前のラベルの人物と同一人物か\n",
    "                if tmp[0] > a:\n",
    "                    # ファイル書き込み (video_id,frame,yolo_coorsinate,actionID,personID)\n",
    "                    ff.write(f\"{video_id},{j},{tmp[1]},{tmp[2]},{tmp[3]},{tmp[4]},{int(tmp[0]+1)},{person_id}\\n\")\n",
    "                    a = tmp[0]\n",
    "                else:\n",
    "                    person_id  += 1\n",
    "                    # ファイル書き込み (video_id,frame,yolo_coorsinate,actionID,personID)\n",
    "                    ff.write(f\"{video_id},{j},{tmp[1]},{tmp[2]},{tmp[3]},{tmp[4]},{int(tmp[0]+1)},{person_id}\\n\")\n",
    "                    a = -1\n",
    "    \n",
    "\n",
    "f.close()"
   ]
  },
  {
   "cell_type": "code",
   "execution_count": 14,
   "metadata": {},
   "outputs": [],
   "source": [
    "#####\n",
    "# 目的：Action recovnition用のラベルファイルに変換\n",
    "#####\n",
    "\n",
    "import numpy as np\n",
    "import cv2\n",
    "import glob\n",
    "\n",
    "\n",
    "video_id = \"./IMG1810\"\n",
    "label_id = 0\n",
    "with open(\"train_A.txt\",\"a\") as ff:\n",
    "    ff.write(f\"{video_id}\\t{label_id}\")\n",
    "    "
   ]
  }
 ],
 "metadata": {
  "kernelspec": {
   "display_name": "Python 3.8.10 64-bit",
   "language": "python",
   "name": "python3"
  },
  "language_info": {
   "codemirror_mode": {
    "name": "ipython",
    "version": 3
   },
   "file_extension": ".py",
   "mimetype": "text/x-python",
   "name": "python",
   "nbconvert_exporter": "python",
   "pygments_lexer": "ipython3",
   "version": "3.8.10"
  },
  "orig_nbformat": 4,
  "vscode": {
   "interpreter": {
    "hash": "767d51c1340bd893661ea55ea3124f6de3c7a262a8b4abca0554b478b1e2ff90"
   }
  }
 },
 "nbformat": 4,
 "nbformat_minor": 2
}
